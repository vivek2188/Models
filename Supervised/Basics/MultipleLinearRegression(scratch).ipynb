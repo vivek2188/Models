{
 "cells": [
  {
   "cell_type": "code",
   "execution_count": 1,
   "metadata": {},
   "outputs": [],
   "source": [
    "import numpy as np\n",
    "import matplotlib.pyplot as plt\n",
    "\n",
    "%matplotlib inline"
   ]
  },
  {
   "cell_type": "code",
   "execution_count": 2,
   "metadata": {},
   "outputs": [
    {
     "name": "stdout",
     "output_type": "stream",
     "text": [
      "R&D Spend          False\n",
      "Administration     False\n",
      "Marketing Spend    False\n",
      "State              False\n",
      "Profit             False\n",
      "dtype: bool\n",
      "   R&D Spend  Administration  Marketing Spend       State     Profit\n",
      "0  165349.20       136897.80        471784.10    New York  192261.83\n",
      "1  162597.70       151377.59        443898.53  California  191792.06\n",
      "2  153441.51       101145.55        407934.54     Florida  191050.39\n",
      "3  144372.41       118671.85        383199.62    New York  182901.99\n",
      "4  142107.34        91391.77        366168.42     Florida  166187.94\n"
     ]
    }
   ],
   "source": [
    "from LinearRegression import getData\n",
    "X, y = getData(\"50_Startups.csv\")"
   ]
  },
  {
   "cell_type": "code",
   "execution_count": 3,
   "metadata": {},
   "outputs": [
    {
     "name": "stdout",
     "output_type": "stream",
     "text": [
      "Input Shape: (50, 4)\n",
      "Output Shape: (50, 1)\n"
     ]
    }
   ],
   "source": [
    "print(\"Input Shape: {}\\nOutput Shape: {}\".format(X.shape, y.shape))"
   ]
  },
  {
   "cell_type": "code",
   "execution_count": 4,
   "metadata": {},
   "outputs": [],
   "source": [
    "m = X.shape[0] # Number of training examples\n",
    "\n",
    "#Adding intercept column\n",
    "X = np.hstack([np.ones((m,1)), X])"
   ]
  },
  {
   "cell_type": "code",
   "execution_count": 5,
   "metadata": {},
   "outputs": [],
   "source": [
    "from sklearn.model_selection import train_test_split\n",
    "X_tr, X_te, y_tr, y_te = train_test_split(X, y, test_size = 0.2, random_state = 42)"
   ]
  },
  {
   "cell_type": "code",
   "execution_count": 6,
   "metadata": {},
   "outputs": [
    {
     "name": "stdout",
     "output_type": "stream",
     "text": [
      "Training Input Shape: (40, 5)\tTraining Output Shape: (40, 1)\n",
      "Testing Input Shape: (10, 5)\tTesting Output Shape: (10, 1)\n"
     ]
    }
   ],
   "source": [
    "print(\"Training Input Shape: {}\\tTraining Output Shape: {}\".format(X_tr.shape, y_tr.shape))\n",
    "print(\"Testing Input Shape: {}\\tTesting Output Shape: {}\".format(X_te.shape, y_te.shape))"
   ]
  },
  {
   "cell_type": "code",
   "execution_count": 7,
   "metadata": {},
   "outputs": [],
   "source": [
    "from sklearn.preprocessing import LabelEncoder\n",
    "lbl_x = LabelEncoder()\n",
    "lbl_x.fit(X[:, -1])\n",
    "X[:, -1] = lbl_x.transform(X[:, -1])"
   ]
  },
  {
   "cell_type": "code",
   "execution_count": 8,
   "metadata": {},
   "outputs": [
    {
     "name": "stderr",
     "output_type": "stream",
     "text": [
      "/home/vivek/myenv/lib/python3.6/site-packages/sklearn/preprocessing/_encoders.py:368: FutureWarning: The handling of integer data will change in version 0.22. Currently, the categories are determined based on the range [0, max(values)], while in the future they will be determined based on the unique values.\n",
      "If you want the future behaviour and silence this warning, you can specify \"categories='auto'\".\n",
      "In case you used a LabelEncoder before this OneHotEncoder to convert the categories to integers, then you can now use the OneHotEncoder directly.\n",
      "  warnings.warn(msg, FutureWarning)\n",
      "/home/vivek/myenv/lib/python3.6/site-packages/sklearn/preprocessing/_encoders.py:390: DeprecationWarning: The 'categorical_features' keyword is deprecated in version 0.20 and will be removed in 0.22. You can use the ColumnTransformer instead.\n",
      "  \"use the ColumnTransformer instead.\", DeprecationWarning)\n"
     ]
    }
   ],
   "source": [
    "from sklearn.preprocessing import OneHotEncoder\n",
    "ohe = OneHotEncoder(categorical_features = [-1])\n",
    "X = ohe.fit_transform(X).toarray()"
   ]
  },
  {
   "cell_type": "code",
   "execution_count": 9,
   "metadata": {},
   "outputs": [
    {
     "name": "stdout",
     "output_type": "stream",
     "text": [
      "[[0.0000000e+00 0.0000000e+00 1.0000000e+00 1.0000000e+00 1.6534920e+05\n",
      "  1.3689780e+05 4.7178410e+05]\n",
      " [1.0000000e+00 0.0000000e+00 0.0000000e+00 1.0000000e+00 1.6259770e+05\n",
      "  1.5137759e+05 4.4389853e+05]\n",
      " [0.0000000e+00 1.0000000e+00 0.0000000e+00 1.0000000e+00 1.5344151e+05\n",
      "  1.0114555e+05 4.0793454e+05]\n",
      " [0.0000000e+00 0.0000000e+00 1.0000000e+00 1.0000000e+00 1.4437241e+05\n",
      "  1.1867185e+05 3.8319962e+05]\n",
      " [0.0000000e+00 1.0000000e+00 0.0000000e+00 1.0000000e+00 1.4210734e+05\n",
      "  9.1391770e+04 3.6616842e+05]]\n"
     ]
    }
   ],
   "source": [
    "print(X[:5])"
   ]
  },
  {
   "cell_type": "code",
   "execution_count": 10,
   "metadata": {},
   "outputs": [],
   "source": [
    "# Removing Dummy variable\n",
    "X = X[:, 1:]"
   ]
  },
  {
   "cell_type": "code",
   "execution_count": 11,
   "metadata": {},
   "outputs": [],
   "source": [
    "# Intercept Column\n",
    "X = np.hstack([np.ones((m,1)), X])"
   ]
  },
  {
   "cell_type": "code",
   "execution_count": 12,
   "metadata": {},
   "outputs": [],
   "source": [
    "from sklearn.model_selection import train_test_split\n",
    "X_tr, X_te, y_tr, y_te = train_test_split(X, y, test_size = 0.2, random_state = 42)"
   ]
  },
  {
   "cell_type": "code",
   "execution_count": 13,
   "metadata": {},
   "outputs": [],
   "source": [
    "from sklearn.preprocessing import StandardScaler\n",
    "scl_x = StandardScaler()\n",
    "scl_y = StandardScaler()"
   ]
  },
  {
   "cell_type": "code",
   "execution_count": 14,
   "metadata": {},
   "outputs": [],
   "source": [
    "X_tr[:, 3:] = scl_x.fit_transform(X_tr[:, 3:])\n",
    "X_te[:, 3:] = scl_x.transform(X_te[:, 3:])\n",
    "\n",
    "y_tr = scl_y.fit_transform(y_tr)\n",
    "y_te = scl_y.transform(y_te)"
   ]
  },
  {
   "cell_type": "code",
   "execution_count": 40,
   "metadata": {},
   "outputs": [],
   "source": [
    "from LinearRegression import LinearRegression as LRscratch\n",
    "lr = LRscratch(max_iter = 10000)\n",
    "lr.fit(X_tr, y_tr)"
   ]
  },
  {
   "cell_type": "code",
   "execution_count": 41,
   "metadata": {},
   "outputs": [],
   "source": [
    "y_pred = lr.predict(X_te)"
   ]
  },
  {
   "cell_type": "code",
   "execution_count": 42,
   "metadata": {},
   "outputs": [
    {
     "name": "stdout",
     "output_type": "stream",
     "text": [
      "[[ 0.25816802]\n",
      " [-0.74819571]\n",
      " [-0.38501547]\n",
      " [-1.67013132]\n",
      " [ 0.31570373]\n",
      " [-1.56034945]\n",
      " [-0.14245599]\n",
      " [-0.36172655]\n",
      " [-0.43509405]\n",
      " [-0.06157054]]\n"
     ]
    }
   ],
   "source": [
    "print(y_pred)"
   ]
  },
  {
   "cell_type": "code",
   "execution_count": 43,
   "metadata": {},
   "outputs": [
    {
     "name": "stdout",
     "output_type": "stream",
     "text": [
      "[[134307.35]\n",
      " [ 81005.76]\n",
      " [ 99937.59]\n",
      " [ 64926.08]\n",
      " [125370.37]\n",
      " [ 35673.41]\n",
      " [105733.54]\n",
      " [107404.34]\n",
      " [ 97427.84]\n",
      " [122776.86]]\n"
     ]
    }
   ],
   "source": [
    "print(scl_y.inverse_transform(y_te))"
   ]
  },
  {
   "cell_type": "code",
   "execution_count": 44,
   "metadata": {},
   "outputs": [
    {
     "name": "stdout",
     "output_type": "stream",
     "text": [
      "[[126363.22926199]\n",
      " [ 84608.73959864]\n",
      " [ 99677.25307384]\n",
      " [ 46357.21057614]\n",
      " [128750.41211302]\n",
      " [ 50912.11056881]\n",
      " [109741.15671383]\n",
      " [100643.5210081 ]\n",
      " [ 97599.47010329]\n",
      " [113097.13080099]]\n"
     ]
    }
   ],
   "source": [
    "print(scl_y.inverse_transform(y_pred))"
   ]
  },
  {
   "cell_type": "code",
   "execution_count": null,
   "metadata": {},
   "outputs": [],
   "source": []
  }
 ],
 "metadata": {
  "kernelspec": {
   "display_name": "Python 3",
   "language": "python",
   "name": "python3"
  },
  "language_info": {
   "codemirror_mode": {
    "name": "ipython",
    "version": 3
   },
   "file_extension": ".py",
   "mimetype": "text/x-python",
   "name": "python",
   "nbconvert_exporter": "python",
   "pygments_lexer": "ipython3",
   "version": "3.6.7"
  }
 },
 "nbformat": 4,
 "nbformat_minor": 2
}
