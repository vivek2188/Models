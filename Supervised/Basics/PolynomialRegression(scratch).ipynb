{
 "cells": [
  {
   "cell_type": "code",
   "execution_count": 1,
   "metadata": {},
   "outputs": [],
   "source": [
    "import numpy as np\n",
    "import matplotlib.pyplot as plt\n",
    "import pandas as pd\n",
    "\n",
    "%matplotlib inline"
   ]
  },
  {
   "cell_type": "code",
   "execution_count": 2,
   "metadata": {},
   "outputs": [
    {
     "name": "stdout",
     "output_type": "stream",
     "text": [
      "            Position  Level  Salary\n",
      "0   Business Analyst      1   45000\n",
      "1  Junior Consultant      2   50000\n",
      "2  Senior Consultant      3   60000\n",
      "3            Manager      4   80000\n",
      "4    Country Manager      5  110000\n"
     ]
    }
   ],
   "source": [
    "df = pd.read_csv(\"Position_Salaries.csv\")\n",
    "print(df.head())"
   ]
  },
  {
   "cell_type": "code",
   "execution_count": 3,
   "metadata": {},
   "outputs": [],
   "source": [
    "X = df.iloc[:, 1:-1].values\n",
    "y = df.iloc[:, -1:].values"
   ]
  },
  {
   "cell_type": "code",
   "execution_count": 4,
   "metadata": {},
   "outputs": [
    {
     "name": "stdout",
     "output_type": "stream",
     "text": [
      "(10, 1)\n",
      "(10, 1)\n"
     ]
    }
   ],
   "source": [
    "print(X.shape)\n",
    "print(y.shape)"
   ]
  },
  {
   "cell_type": "code",
   "execution_count": 5,
   "metadata": {},
   "outputs": [],
   "source": [
    "from sklearn.preprocessing import PolynomialFeatures\n",
    "input_ = PolynomialFeatures(degree = 4)\n",
    "X_transformed = input_.fit_transform(X)"
   ]
  },
  {
   "cell_type": "code",
   "execution_count": 6,
   "metadata": {},
   "outputs": [
    {
     "name": "stdout",
     "output_type": "stream",
     "text": [
      "[[  1.   1.   1.   1.   1.]\n",
      " [  1.   2.   4.   8.  16.]\n",
      " [  1.   3.   9.  27.  81.]\n",
      " [  1.   4.  16.  64. 256.]\n",
      " [  1.   5.  25. 125. 625.]]\n",
      "[[1]\n",
      " [2]\n",
      " [3]\n",
      " [4]\n",
      " [5]]\n"
     ]
    }
   ],
   "source": [
    "print(X_transformed[:5])\n",
    "print(X[:5])"
   ]
  },
  {
   "cell_type": "code",
   "execution_count": 7,
   "metadata": {},
   "outputs": [],
   "source": [
    "from sklearn.preprocessing import StandardScaler\n",
    "scl_x = StandardScaler()\n",
    "scl_y = StandardScaler()"
   ]
  },
  {
   "cell_type": "code",
   "execution_count": 14,
   "metadata": {},
   "outputs": [],
   "source": [
    "X_transformed[:, 1:] = scl_x.fit_transform(X_transformed[:, 1:])\n",
    "y = scl_y.fit_transform(y)"
   ]
  },
  {
   "cell_type": "code",
   "execution_count": 9,
   "metadata": {},
   "outputs": [
    {
     "name": "stdout",
     "output_type": "stream",
     "text": [
      "[[ 1.         -1.5666989  -1.15669692 -0.92459328 -0.78691732]\n",
      " [ 1.         -1.21854359 -1.06416117 -0.90312676 -0.78225604]\n",
      " [ 1.         -0.87038828 -0.90993491 -0.84486052 -0.76205716]\n",
      " [ 1.         -0.52223297 -0.69401815 -0.73139468 -0.70767556]\n",
      " [ 1.         -0.17407766 -0.41641089 -0.54432937 -0.59300807]]\n",
      "[[-0.72004253]\n",
      " [-0.70243757]\n",
      " [-0.66722767]\n",
      " [-0.59680786]\n",
      " [-0.49117815]]\n"
     ]
    }
   ],
   "source": [
    "print(X_transformed[:5])\n",
    "print(y[:5])"
   ]
  },
  {
   "cell_type": "code",
   "execution_count": 10,
   "metadata": {},
   "outputs": [],
   "source": [
    "from LinearRegression import LinearRegression\n",
    "lr = LinearRegression(max_iter = 8000, learning_rate = 0.001)\n",
    "lr.fit(X_transformed, y)"
   ]
  },
  {
   "cell_type": "code",
   "execution_count": 11,
   "metadata": {},
   "outputs": [
    {
     "name": "stdout",
     "output_type": "stream",
     "text": [
      "[[43854.21773862]\n",
      " [35627.22286513]\n",
      " [36035.83645903]\n",
      " [50188.0538222 ]\n",
      " [84452.6661392 ]]\n",
      "[[ 45000.]\n",
      " [ 50000.]\n",
      " [ 60000.]\n",
      " [ 80000.]\n",
      " [110000.]]\n"
     ]
    }
   ],
   "source": [
    "y_pred = lr.predict(X_transformed)\n",
    "\n",
    "y_pred = scl_y.inverse_transform(y_pred)\n",
    "y = scl_y.inverse_transform(y)\n",
    "\n",
    "print(y_pred[:5])\n",
    "print(y[:5])"
   ]
  },
  {
   "cell_type": "code",
   "execution_count": 12,
   "metadata": {},
   "outputs": [],
   "source": [
    "points = 30\n",
    "X_plot = np.linspace(X.min(), X.max(), points).reshape(points, 1)\n",
    "X_plot_transformed = input_.transform(X_plot)\n",
    "X_plot_transformed[:, 1:] = scl_x.transform(X_plot_transformed[:, 1:])\n",
    "\n",
    "y_plot = lr.predict(X_plot_transformed)\n",
    "y_plot = scl_y.inverse_transform(y_plot)"
   ]
  },
  {
   "cell_type": "code",
   "execution_count": 13,
   "metadata": {},
   "outputs": [
    {
     "data": {
      "image/png": "[encoded data removed]",
      "text/plain": [
       "<Figure size 432x288 with 1 Axes>"
      ]
     },
     "metadata": {
      "needs_background": "light"
     },
     "output_type": "display_data"
    }
   ],
   "source": [
    "plt.scatter(X, y, color = \"yellow\")\n",
    "plt.plot(X, y_pred, color = \"green\")\n",
    "plt.show()"
   ]
  },
  {
   "cell_type": "code",
   "execution_count": null,
   "metadata": {},
   "outputs": [],
   "source": []
  }
 ],
 "metadata": {
  "kernelspec": {
   "display_name": "Python 3",
   "language": "python",
   "name": "python3"
  },
  "language_info": {
   "codemirror_mode": {
    "name": "ipython",
    "version": 3
   },
   "file_extension": ".py",
   "mimetype": "text/x-python",
   "name": "python",
   "nbconvert_exporter": "python",
   "pygments_lexer": "ipython3",
   "version": "3.6.7"
  }
 },
 "nbformat": 4,
 "nbformat_minor": 2
}
