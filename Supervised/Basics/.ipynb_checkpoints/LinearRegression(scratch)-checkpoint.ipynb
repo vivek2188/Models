{
 "cells": [
  {
   "cell_type": "code",
   "execution_count": 1,
   "metadata": {},
   "outputs": [],
   "source": [
    "import numpy as np\n",
    "import matplotlib.pyplot as plt\n",
    "\n",
    "%matplotlib inline"
   ]
  },
  {
   "cell_type": "code",
   "execution_count": 2,
   "metadata": {},
   "outputs": [
    {
     "name": "stdout",
     "output_type": "stream",
     "text": [
      "YearsExperience    False\n",
      "Salary             False\n",
      "dtype: bool\n",
      "   YearsExperience   Salary\n",
      "0              1.1  39343.0\n",
      "1              1.3  46205.0\n",
      "2              1.5  37731.0\n",
      "3              2.0  43525.0\n",
      "4              2.2  39891.0\n"
     ]
    }
   ],
   "source": [
    "from LinearRegression import getData\n",
    "X, y = getData(\"Salary_Data.csv\")"
   ]
  },
  {
   "cell_type": "code",
   "execution_count": 3,
   "metadata": {},
   "outputs": [
    {
     "name": "stdout",
     "output_type": "stream",
     "text": [
      "Input Shape: (30, 1)\n",
      "Output Shape: (30, 1)\n"
     ]
    }
   ],
   "source": [
    "print(\"Input Shape: {}\\nOutput Shape: {}\".format(X.shape, y.shape))"
   ]
  },
  {
   "cell_type": "code",
   "execution_count": 4,
   "metadata": {},
   "outputs": [],
   "source": [
    "m = X.shape[0] # Number of training examples\n",
    "\n",
    "#Adding intercept column\n",
    "X = np.hstack([np.ones((m,1)), X])"
   ]
  },
  {
   "cell_type": "code",
   "execution_count": 5,
   "metadata": {},
   "outputs": [],
   "source": [
    "from sklearn.model_selection import train_test_split\n",
    "X_tr, X_te, y_tr, y_te = train_test_split(X, y, test_size = 0.2, random_state = 42)"
   ]
  },
  {
   "cell_type": "code",
   "execution_count": 6,
   "metadata": {},
   "outputs": [
    {
     "name": "stdout",
     "output_type": "stream",
     "text": [
      "Training Input Shape: (24, 2)\tTraining Output Shape: (24, 1)\n",
      "Testing Input Shape: (6, 2)\tTesting Output Shape: (6, 1)\n"
     ]
    }
   ],
   "source": [
    "print(\"Training Input Shape: {}\\tTraining Output Shape: {}\".format(X_tr.shape, y_tr.shape))\n",
    "print(\"Testing Input Shape: {}\\tTesting Output Shape: {}\".format(X_te.shape, y_te.shape))"
   ]
  },
  {
   "cell_type": "markdown",
   "metadata": {},
   "source": [
    "Given Input neither has missing values nor categorical features.\n"
   ]
  },
  {
   "cell_type": "code",
   "execution_count": 7,
   "metadata": {},
   "outputs": [],
   "source": [
    "from sklearn.preprocessing import StandardScaler\n",
    "scl_x = StandardScaler()\n",
    "scl_y = StandardScaler()"
   ]
  },
  {
   "cell_type": "code",
   "execution_count": 8,
   "metadata": {},
   "outputs": [],
   "source": [
    "X_tr[:, 1:] = scl_x.fit_transform(X_tr[:, 1:])\n",
    "X_te[:, 1:] = scl_x.transform(X_te[:, 1:])"
   ]
  },
  {
   "cell_type": "code",
   "execution_count": 9,
   "metadata": {
    "scrolled": true
   },
   "outputs": [
    {
     "name": "stdout",
     "output_type": "stream",
     "text": [
      "[[ 1.          1.77445774]\n",
      " [ 1.          1.21912622]\n",
      " [ 1.         -0.41216011]\n",
      " [ 1.         -1.41869849]\n",
      " [ 1.         -1.03690807]\n",
      " [ 1.         -0.03036969]\n",
      " [ 1.         -0.79395053]\n",
      " [ 1.         -0.37745189]\n",
      " [ 1.         -0.41216011]\n",
      " [ 1.          0.94146047]\n",
      " [ 1.         -1.34928205]\n",
      " [ 1.         -1.27986561]\n",
      " [ 1.          1.32325088]\n",
      " [ 1.         -1.10632451]\n",
      " [ 1.          0.66379471]\n",
      " [ 1.          1.49679198]\n",
      " [ 1.          0.24729607]\n",
      " [ 1.          1.84387418]\n",
      " [ 1.          0.55967005]\n",
      " [ 1.         -0.68982587]\n",
      " [ 1.         -0.44686833]\n",
      " [ 1.         -0.23861901]\n",
      " [ 1.          0.28200429]\n",
      " [ 1.         -0.75924231]]\n"
     ]
    }
   ],
   "source": [
    "print(X_tr)"
   ]
  },
  {
   "cell_type": "code",
   "execution_count": 10,
   "metadata": {},
   "outputs": [],
   "source": [
    "y_tr = scl_y.fit_transform(y_tr)\n",
    "y_te = scl_y.transform(y_te)"
   ]
  },
  {
   "cell_type": "code",
   "execution_count": 11,
   "metadata": {
    "scrolled": false
   },
   "outputs": [
    {
     "name": "stdout",
     "output_type": "stream",
     "text": [
      "[[ 1.38997327]\n",
      " [-0.22678133]\n",
      " [ 1.43254705]\n",
      " [ 0.3212159 ]\n",
      " [-0.35312815]\n",
      " [-0.61558808]]\n"
     ]
    }
   ],
   "source": [
    "print(y_te)"
   ]
  },
  {
   "cell_type": "code",
   "execution_count": 12,
   "metadata": {},
   "outputs": [
    {
     "name": "stdout",
     "output_type": "stream",
     "text": [
      "[[112635.]\n",
      " [ 67938.]\n",
      " [113812.]\n",
      " [ 83088.]\n",
      " [ 64445.]\n",
      " [ 57189.]]\n"
     ]
    }
   ],
   "source": [
    "print(scl_y.inverse_transform(y_te))"
   ]
  },
  {
   "cell_type": "code",
   "execution_count": 13,
   "metadata": {
    "scrolled": true
   },
   "outputs": [],
   "source": [
    "from LinearRegression import LinearRegression as LRscratch\n",
    "lr = LRscratch(max_iter = 1000)\n",
    "lr.fit(X_tr, y_tr)"
   ]
  },
  {
   "cell_type": "code",
   "execution_count": 14,
   "metadata": {},
   "outputs": [],
   "source": [
    "y_pred_scratch = lr.predict(X_te)"
   ]
  },
  {
   "cell_type": "code",
   "execution_count": 15,
   "metadata": {},
   "outputs": [
    {
     "data": {
      "text/plain": [
       "LinearRegression(copy_X=True, fit_intercept=True, n_jobs=-1, normalize=False)"
      ]
     },
     "execution_count": 15,
     "metadata": {},
     "output_type": "execute_result"
    }
   ],
   "source": [
    "from sklearn.linear_model import LinearRegression as LRlib\n",
    "lr_ = LRlib(n_jobs = -1)\n",
    "lr_.fit(X_tr, y_tr)"
   ]
  },
  {
   "cell_type": "code",
   "execution_count": 16,
   "metadata": {},
   "outputs": [],
   "source": [
    "y_pred_lib = lr_.predict(X_te)"
   ]
  },
  {
   "cell_type": "code",
   "execution_count": 17,
   "metadata": {},
   "outputs": [
    {
     "data": {
      "image/png": "[encoded data removed]",
      "text/plain": [
       "<Figure size 432x288 with 1 Axes>"
      ]
     },
     "metadata": {
      "needs_background": "light"
     },
     "output_type": "display_data"
    }
   ],
   "source": [
    "plt.plot(np.arange(lr.max_iter), lr.J)\n",
    "plt.title(\"Loss Function (Own Implementation)\")\n",
    "plt.xlabel(\"Iteration Number\")\n",
    "plt.ylabel(\"Loss Value\")\n",
    "plt.show()"
   ]
  },
  {
   "cell_type": "code",
   "execution_count": 18,
   "metadata": {},
   "outputs": [
    {
     "data": {
      "image/png": "[encoded data removed]",
      "text/plain": [
       "<Figure size 432x288 with 1 Axes>"
      ]
     },
     "metadata": {
      "needs_background": "light"
     },
     "output_type": "display_data"
    }
   ],
   "source": [
    "plt.scatter(scl_x.inverse_transform(X_tr[:, 1:]), scl_y.inverse_transform(y_tr), color = \"red\")\n",
    "plt.scatter(scl_x.inverse_transform(X_te[:, 1:]), scl_y.inverse_transform(y_te), color = \"orange\")\n",
    "plt.plot(scl_x.inverse_transform(X_tr[:, 1:]), scl_y.inverse_transform(lr.predict(X_tr)), color = \"blue\")\n",
    "#plt.plot(scl_x.inverse_transform(X_tr[:, 1:]), scl_y.inverse_transform(lr_.predict(X_tr)), color = \"green\")\n",
    "'''\n",
    "    Both regression lines coincides\n",
    "'''\n",
    "plt.title(\"Linear Regression\")\n",
    "plt.xlabel(\"Year of Experience\")\n",
    "plt.ylabel(\"Salary\")\n",
    "plt.show()"
   ]
  },
  {
   "cell_type": "code",
   "execution_count": null,
   "metadata": {},
   "outputs": [],
   "source": []
  }
 ],
 "metadata": {
  "kernelspec": {
   "display_name": "Python 3",
   "language": "python",
   "name": "python3"
  },
  "language_info": {
   "codemirror_mode": {
    "name": "ipython",
    "version": 3
   },
   "file_extension": ".py",
   "mimetype": "text/x-python",
   "name": "python",
   "nbconvert_exporter": "python",
   "pygments_lexer": "ipython3",
   "version": "3.6.7"
  }
 },
 "nbformat": 4,
 "nbformat_minor": 2
}
