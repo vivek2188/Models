{
 "cells": [
  {
   "cell_type": "markdown",
   "metadata": {},
   "source": [
    "### Word2Vec - Skip Gram Model\n",
    "\n",
    "Skip Gram model is implemented using tensorflow in this notebook.\n",
    "\n",
    "For more information on this model, refer to following:\n",
    "1. <a href = \"https://arxiv.org/pdf/1301.3781.pdf\">Efficient Estimation of Word Representations in Vector Space</a>\n",
    "2. <a href = \"https://arxiv.org/pdf/1310.4546.pdf\">Distributed Representations of Words and Phrases and their Compositionality</a>"
   ]
  },
  {
   "cell_type": "markdown",
   "metadata": {},
   "source": [
    "#### 1. Input Data"
   ]
  },
  {
   "cell_type": "code",
   "execution_count": 1,
   "metadata": {},
   "outputs": [],
   "source": [
    "sentences = ['king is a strong man',\n",
    "             'queen is a wise woman',\n",
    "             'boy is a young man',\n",
    "             'girl is a young woman',\n",
    "             'prince is a young king',\n",
    "             'princess is a young queen',\n",
    "             'man is strong',\n",
    "             'woman is pretty',\n",
    "             'prince is a boy will be king',\n",
    "             'princess is a girl will be queen'\n",
    "            ]"
   ]
  },
  {
   "cell_type": "markdown",
   "metadata": {},
   "source": [
    "#### 2. Getting rid of stopwords"
   ]
  },
  {
   "cell_type": "code",
   "execution_count": 2,
   "metadata": {},
   "outputs": [],
   "source": [
    "def remove_stopwords(sentences):\n",
    "    stopwords = {\"is\", \"a\", \"will\", \"be\"}\n",
    "    \n",
    "    transformed_sentences = []\n",
    "    for idx, sentence in enumerate(sentences):\n",
    "        result = list()\n",
    "        for word in sentence.split(\" \"):\n",
    "            if word in stopwords:\n",
    "                continue\n",
    "            result.append(word)\n",
    "        transformed_sentences.append(\" \".join(result))\n",
    "    return transformed_sentences"
   ]
  },
  {
   "cell_type": "code",
   "execution_count": 3,
   "metadata": {},
   "outputs": [],
   "source": [
    "sentences = remove_stopwords(sentences)"
   ]
  },
  {
   "cell_type": "markdown",
   "metadata": {},
   "source": [
    "#### 3. Creating Vocabulary"
   ]
  },
  {
   "cell_type": "code",
   "execution_count": 4,
   "metadata": {},
   "outputs": [
    {
     "name": "stdout",
     "output_type": "stream",
     "text": [
      "Size of the vocabulary: 12\n",
      "Vocabulary: {'king', 'boy', 'man', 'queen', 'young', 'girl', 'princess', 'pretty', 'strong', 'prince', 'woman', 'wise'}\n"
     ]
    }
   ],
   "source": [
    "vocabulary = set()\n",
    "for sentence in sentences:\n",
    "    for word in sentence.split(\" \"):\n",
    "        vocabulary.add(word)\n",
    "\n",
    "print(\"Size of the vocabulary: {}\".format(len(vocabulary)))\n",
    "print(\"Vocabulary: {}\".format(vocabulary))"
   ]
  },
  {
   "cell_type": "markdown",
   "metadata": {},
   "source": [
    "#### 4. Data Preparation"
   ]
  },
  {
   "cell_type": "code",
   "execution_count": 5,
   "metadata": {},
   "outputs": [],
   "source": [
    "wordPos = dict()\n",
    "for idx, word in enumerate(vocabulary):\n",
    "    wordPos[word] = idx\n",
    "\n",
    "sentences = [sentence.split(\" \") for sentence in sentences]\n",
    "\n",
    "m = 2     # Window Size for the context words\n",
    "data = []\n",
    "for sentence in sentences:\n",
    "    for i, word in enumerate(sentence):\n",
    "        for context in sentence[max(i-m, 0): min(i+m, len(sentence))+1]:\n",
    "            if context != word:\n",
    "                data.append([word, context])"
   ]
  },
  {
   "cell_type": "code",
   "execution_count": 6,
   "metadata": {},
   "outputs": [
    {
     "name": "stdout",
     "output_type": "stream",
     "text": [
      "     Word Context\n",
      "0    king  strong\n",
      "1    king     man\n",
      "2  strong    king\n",
      "3  strong     man\n",
      "4     man    king\n"
     ]
    }
   ],
   "source": [
    "import pandas as pd\n",
    "\n",
    "data = pd.DataFrame(data, columns = [\"Word\", \"Context\"])\n",
    "print(data.head())"
   ]
  },
  {
   "cell_type": "code",
   "execution_count": 7,
   "metadata": {},
   "outputs": [
    {
     "name": "stdout",
     "output_type": "stream",
     "text": [
      "(52, 2)\n"
     ]
    }
   ],
   "source": [
    "print(data.shape)"
   ]
  },
  {
   "cell_type": "code",
   "execution_count": 8,
   "metadata": {},
   "outputs": [
    {
     "data": {
      "text/plain": [
       "{'king': 0,\n",
       " 'boy': 1,\n",
       " 'man': 2,\n",
       " 'queen': 3,\n",
       " 'young': 4,\n",
       " 'girl': 5,\n",
       " 'princess': 6,\n",
       " 'pretty': 7,\n",
       " 'strong': 8,\n",
       " 'prince': 9,\n",
       " 'woman': 10,\n",
       " 'wise': 11}"
      ]
     },
     "execution_count": 8,
     "metadata": {},
     "output_type": "execute_result"
    }
   ],
   "source": [
    "wordPos"
   ]
  },
  {
   "cell_type": "markdown",
   "metadata": {},
   "source": [
    "#### 5. Defining model using tensorflow"
   ]
  },
  {
   "cell_type": "code",
   "execution_count": null,
   "metadata": {},
   "outputs": [],
   "source": []
  }
 ],
 "metadata": {
  "kernelspec": {
   "display_name": "Python 3",
   "language": "python",
   "name": "python3"
  },
  "language_info": {
   "codemirror_mode": {
    "name": "ipython",
    "version": 3
   },
   "file_extension": ".py",
   "mimetype": "text/x-python",
   "name": "python",
   "nbconvert_exporter": "python",
   "pygments_lexer": "ipython3",
   "version": "3.6.7"
  }
 },
 "nbformat": 4,
 "nbformat_minor": 2
}
