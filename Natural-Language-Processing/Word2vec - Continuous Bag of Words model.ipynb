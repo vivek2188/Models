{
 "cells": [
  {
   "cell_type": "markdown",
   "metadata": {},
   "source": [
    "### Word2vec - Continuous Bag of Words model\n",
    "\n",
    "This notebook consists of the tensorflow implementation of the model.\n",
    "\n",
    "For more information about the model, check out the following research papers:\n",
    "1. <a href = \"https://arxiv.org/pdf/1301.3781.pdf\">Efficient Estimation of Word Representations in Vector Space</a>\n",
    "2. <a href = \"https://arxiv.org/pdf/1310.4546.pdf\">Distributed Representations of Words and Phrases and their Compositionality</a>"
   ]
  },
  {
   "cell_type": "markdown",
   "metadata": {},
   "source": [
    "#### 1. Defining Corpus"
   ]
  },
  {
   "cell_type": "code",
   "execution_count": 45,
   "metadata": {},
   "outputs": [],
   "source": [
    "corpus = ['the dog saw a cat',\n",
    "          'the dog chased the cat',\n",
    "          'the cat climbed a tree'\n",
    "         ]"
   ]
  },
  {
   "cell_type": "markdown",
   "metadata": {},
   "source": [
    "#### 2. Removing stop words"
   ]
  },
  {
   "cell_type": "code",
   "execution_count": 46,
   "metadata": {},
   "outputs": [],
   "source": [
    "def remove_stopwords(corpus):\n",
    "    stop_words = {\"the\", \"a\", \"is\", \"an\"}\n",
    "    \n",
    "    transformed_sentences = []\n",
    "    for sentence in corpus:\n",
    "        result = []\n",
    "        for word in sentence.split(\" \"):\n",
    "            if word not in stop_words:\n",
    "                result.append(word)\n",
    "        transformed_sentences.append(\" \".join(result))\n",
    "    return transformed_sentences"
   ]
  },
  {
   "cell_type": "code",
   "execution_count": 47,
   "metadata": {},
   "outputs": [
    {
     "data": {
      "text/plain": [
       "['dog saw cat', 'dog chased cat', 'cat climbed tree']"
      ]
     },
     "execution_count": 47,
     "metadata": {},
     "output_type": "execute_result"
    }
   ],
   "source": [
    "sentences = remove_stopwords(corpus)\n",
    "sentences"
   ]
  },
  {
   "cell_type": "markdown",
   "metadata": {},
   "source": [
    "#### 3. Constructing vocabulary"
   ]
  },
  {
   "cell_type": "code",
   "execution_count": 48,
   "metadata": {},
   "outputs": [
    {
     "name": "stdout",
     "output_type": "stream",
     "text": [
      "Size of the dictionary: 6\n",
      "False\n"
     ]
    }
   ],
   "source": [
    "vocab = set()\n",
    "for sentence in sentences:\n",
    "    for word in sentence.split(\" \"):\n",
    "        vocab.add(word)\n",
    "\n",
    "dict_size = len(vocab)\n",
    "print(\"Size of the dictionary: {}\".format(dict_size))\n",
    "print('the' in vocab)"
   ]
  },
  {
   "cell_type": "markdown",
   "metadata": {},
   "source": [
    "#### 4. Preparing data"
   ]
  },
  {
   "cell_type": "code",
   "execution_count": 49,
   "metadata": {},
   "outputs": [],
   "source": [
    "sentences = [sentence.split(\" \") for sentence in sentences]\n",
    "\n",
    "# Assigning unique integer value to each word in the dictionary\n",
    "wordPos = {}\n",
    "for idx, word in enumerate(vocab):\n",
    "    wordPos[word] = idx\n",
    "\n",
    "# Setting hyperparameters\n",
    "window_size = 1\n",
    "wordvec_dimension = 2\n",
    "\n",
    "\n",
    "data = []\n",
    "for sentence in sentences:\n",
    "    for idx, word in enumerate(sentence):\n",
    "        context_words = []\n",
    "        for neighbor in sentence[max(idx-window_size, 0): min(idx+window_size, len(sentence))+1]:\n",
    "            if neighbor is not word:\n",
    "                context_words.append(neighbor)\n",
    "        data.append([context_words, word])\n",
    "\n",
    "# Size of our data\n",
    "m = len(data)"
   ]
  },
  {
   "cell_type": "code",
   "execution_count": 50,
   "metadata": {},
   "outputs": [
    {
     "name": "stdout",
     "output_type": "stream",
     "text": [
      "      context    word\n",
      "0       [saw]     dog\n",
      "1  [dog, cat]     saw\n",
      "2       [saw]     cat\n",
      "3    [chased]     dog\n",
      "4  [dog, cat]  chased\n"
     ]
    }
   ],
   "source": [
    "import pandas as pd\n",
    "\n",
    "df = pd.DataFrame(data, columns = ['context', 'word'])\n",
    "print(df.head())"
   ]
  },
  {
   "cell_type": "code",
   "execution_count": 51,
   "metadata": {},
   "outputs": [],
   "source": [
    "import numpy as np\n",
    "\n",
    "def one_hot(word):\n",
    "    vec = np.zeros(dict_size)\n",
    "    vec[wordPos[word]] = 1\n",
    "    return vec\n",
    "\n",
    "def list_to_vec(getlist):\n",
    "    vec = np.zeros(dict_size)\n",
    "    for word in getlist:\n",
    "        vec[wordPos[word]] = 1\n",
    "    return vec\n",
    "\n",
    "X_train = []\n",
    "y_train = []\n",
    "\n",
    "for getlist, word in zip(df['context'], df['word']):\n",
    "    X_train.append(list_to_vec(getlist))\n",
    "    y_train.append(one_hot(word))\n",
    "    \n",
    "X_train = np.array(X_train)\n",
    "y_train = np.array(y_train)"
   ]
  },
  {
   "cell_type": "code",
   "execution_count": 52,
   "metadata": {},
   "outputs": [
    {
     "name": "stdout",
     "output_type": "stream",
     "text": [
      "[[0. 0. 0. 0. 1. 0.]\n",
      " [0. 1. 0. 0. 0. 1.]\n",
      " [0. 0. 0. 0. 1. 0.]\n",
      " [0. 0. 1. 0. 0. 0.]\n",
      " [0. 1. 0. 0. 0. 1.]]\n",
      "(9, 6)\n"
     ]
    }
   ],
   "source": [
    "print(X_train[:5])\n",
    "print(X_train.shape)"
   ]
  },
  {
   "cell_type": "code",
   "execution_count": 53,
   "metadata": {},
   "outputs": [
    {
     "name": "stdout",
     "output_type": "stream",
     "text": [
      "[[0. 0. 0. 0. 0. 1.]\n",
      " [0. 0. 0. 0. 1. 0.]\n",
      " [0. 1. 0. 0. 0. 0.]\n",
      " [0. 0. 0. 0. 0. 1.]\n",
      " [0. 0. 1. 0. 0. 0.]]\n",
      "(9, 6)\n"
     ]
    }
   ],
   "source": [
    "print(y_train[:5])\n",
    "print(y_train.shape)"
   ]
  },
  {
   "cell_type": "markdown",
   "metadata": {},
   "source": [
    "#### 5. Defining tensorflow model"
   ]
  },
  {
   "cell_type": "code",
   "execution_count": 54,
   "metadata": {},
   "outputs": [],
   "source": [
    "import tensorflow as tf\n",
    "\n",
    "X = tf.placeholder(tf.float32, shape = (None, dict_size))\n",
    "y = tf.placeholder(tf.float32, shape = (None, dict_size))\n",
    "\n",
    "# Hidden layer parameters\n",
    "w1 = tf.Variable(tf.random_normal((dict_size, wordvec_dimension)))\n",
    "b1 = tf.Variable(tf.random_normal((1,)))\n",
    "\n",
    "# Hidden layer\n",
    "vectors = tf.add(tf.matmul(X, w1), b1) \n",
    "\n",
    "# Output layer parameters\n",
    "w2 = tf.Variable(tf.random_normal((wordvec_dimension, dict_size)))\n",
    "b2 = tf.Variable(tf.random_normal((1,)))\n",
    "\n",
    "# Output layer\n",
    "prediction = tf.nn.softmax(tf.add(tf.matmul(vectors, w2), b2))\n",
    "\n",
    "# Objective function [to minimize]\n",
    "loss = tf.reduce_mean(-tf.reduce_sum(y_train * tf.log(prediction), axis = 1))\n",
    "\n",
    "# Model\n",
    "model = tf.train.GradientDescentOptimizer(0.05).minimize(loss)"
   ]
  },
  {
   "cell_type": "markdown",
   "metadata": {},
   "source": [
    "#### 6. Running above tensorflow model"
   ]
  },
  {
   "cell_type": "code",
   "execution_count": 55,
   "metadata": {},
   "outputs": [
    {
     "name": "stdout",
     "output_type": "stream",
     "text": [
      "Cost at 5000 iteration: 0.6183262467384338\n",
      "Cost at 10000 iteration: 0.6169877648353577\n",
      "Cost at 15000 iteration: 0.6166402101516724\n",
      "Cost at 20000 iteration: 0.6164863705635071\n"
     ]
    }
   ],
   "source": [
    "sess = tf.Session()\n",
    "initializer = tf.global_variables_initializer()\n",
    "sess.run(initializer)\n",
    "\n",
    "max_iters = 20000\n",
    "for itr in range(1, max_iters+1):\n",
    "    sess.run(model, feed_dict = {X: X_train, y: y_train})\n",
    "    \n",
    "    if itr % 5000 == 0:\n",
    "        itr_cost = sess.run(loss, feed_dict = {X: X_train, y: y_train})\n",
    "        print(\"Cost at {} iteration: {}\".format(itr, itr_cost))"
   ]
  },
  {
   "cell_type": "code",
   "execution_count": 56,
   "metadata": {},
   "outputs": [],
   "source": [
    "wordVectors = sess.run(w1+b1)"
   ]
  },
  {
   "cell_type": "code",
   "execution_count": 57,
   "metadata": {},
   "outputs": [
    {
     "name": "stdout",
     "output_type": "stream",
     "text": [
      "      word  x-coordinate  y-coordinate\n",
      "0  climbed     -0.634748      4.149545\n",
      "1      cat      1.194917     -2.025758\n",
      "2   chased      2.512901      2.437788\n",
      "3     tree      2.497783      0.557932\n",
      "4      saw      2.503366      2.428549\n",
      "5      dog     -1.915064     -0.558117\n"
     ]
    }
   ],
   "source": [
    "data = pd.DataFrame(wordVectors, columns = ['x-coordinate', 'y-coordinate'])\n",
    "data['word'] = vocab\n",
    "data = data[['word', 'x-coordinate', 'y-coordinate']]\n",
    "print(data)"
   ]
  },
  {
   "cell_type": "markdown",
   "metadata": {},
   "source": [
    "#### 7. Projecting wordVectors to 2D plane"
   ]
  },
  {
   "cell_type": "code",
   "execution_count": 59,
   "metadata": {},
   "outputs": [
    {
     "data": {
      "image/png": "[encoded data removed]",
      "text/plain": [
       "<Figure size 432x288 with 1 Axes>"
      ]
     },
     "metadata": {
      "needs_background": "light"
     },
     "output_type": "display_data"
    }
   ],
   "source": [
    "import matplotlib.pyplot as plt\n",
    "\n",
    "fig, ax = plt.subplots()\n",
    "for word, x, y in zip(data['word'], data['x-coordinate'], data['y-coordinate']):\n",
    "    ax.annotate(word, (x, y))\n",
    "\n",
    "PADDING = 1.0\n",
    "x_axis_min = np.amin(wordVectors, axis=0)[0] - PADDING\n",
    "y_axis_min = np.amin(wordVectors, axis=0)[1] - PADDING\n",
    "x_axis_max = np.amax(wordVectors, axis=0)[0] + PADDING\n",
    "y_axis_max = np.amax(wordVectors, axis=0)[1] + PADDING\n",
    " \n",
    "plt.xlim(x_axis_min,x_axis_max)\n",
    "plt.ylim(y_axis_min,y_axis_max)\n",
    "plt.rcParams[\"figure.figsize\"] = (10,10)\n",
    "\n",
    "plt.show()"
   ]
  },
  {
   "cell_type": "code",
   "execution_count": null,
   "metadata": {},
   "outputs": [],
   "source": []
  }
 ],
 "metadata": {
  "kernelspec": {
   "display_name": "Python 3",
   "language": "python",
   "name": "python3"
  },
  "language_info": {
   "codemirror_mode": {
    "name": "ipython",
    "version": 3
   },
   "file_extension": ".py",
   "mimetype": "text/x-python",
   "name": "python",
   "nbconvert_exporter": "python",
   "pygments_lexer": "ipython3",
   "version": "3.6.7"
  }
 },
 "nbformat": 4,
 "nbformat_minor": 2
}
