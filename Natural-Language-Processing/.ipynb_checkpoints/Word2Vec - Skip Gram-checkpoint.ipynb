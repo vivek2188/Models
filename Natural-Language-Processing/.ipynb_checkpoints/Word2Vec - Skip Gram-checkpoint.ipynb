{
 "cells": [
  {
   "cell_type": "markdown",
   "metadata": {},
   "source": [
    "### Word2Vec - Skip Gram Model\n",
    "\n",
    "Skip Gram model is implemented using tensorflow in this notebook.\n",
    "\n",
    "For more information on this model, refer to following:\n",
    "1. <a href = \"https://arxiv.org/pdf/1301.3781.pdf\">Efficient Estimation of Word Representations in Vector Space</a>\n",
    "2. <a href = \"https://arxiv.org/pdf/1310.4546.pdf\">Distributed Representations of Words and Phrases and their Compositionality</a>"
   ]
  },
  {
   "cell_type": "markdown",
   "metadata": {},
   "source": [
    "#### 1. Input Data"
   ]
  },
  {
   "cell_type": "code",
   "execution_count": 1,
   "metadata": {},
   "outputs": [],
   "source": [
    "sentences = ['king is a strong man',\n",
    "             'queen is a wise woman',\n",
    "             'boy is a young man',\n",
    "             'girl is a young woman',\n",
    "             'prince is a young king',\n",
    "             'princess is a young queen',\n",
    "             'man is strong',\n",
    "             'woman is pretty',\n",
    "             'prince is a boy will be king',\n",
    "             'princess is a girl will be queen'\n",
    "            ]"
   ]
  },
  {
   "cell_type": "markdown",
   "metadata": {},
   "source": [
    "#### 2. Getting rid of stopwords"
   ]
  },
  {
   "cell_type": "code",
   "execution_count": 2,
   "metadata": {},
   "outputs": [],
   "source": [
    "def remove_stopwords(sentences):\n",
    "    stopwords = {\"is\", \"a\", \"will\", \"be\"}\n",
    "    \n",
    "    transformed_sentences = []\n",
    "    for idx, sentence in enumerate(sentences):\n",
    "        result = list()\n",
    "        for word in sentence.split(\" \"):\n",
    "            if word in stopwords:\n",
    "                continue\n",
    "            result.append(word)\n",
    "        transformed_sentences.append(\" \".join(result))\n",
    "    return transformed_sentences"
   ]
  },
  {
   "cell_type": "code",
   "execution_count": 3,
   "metadata": {},
   "outputs": [],
   "source": [
    "sentences = remove_stopwords(sentences)"
   ]
  },
  {
   "cell_type": "markdown",
   "metadata": {},
   "source": [
    "#### 3. Creating Vocabulary"
   ]
  },
  {
   "cell_type": "code",
   "execution_count": 4,
   "metadata": {},
   "outputs": [
    {
     "name": "stdout",
     "output_type": "stream",
     "text": [
      "Size of the vocabulary: 12\n",
      "Vocabulary: {'prince', 'young', 'strong', 'woman', 'pretty', 'girl', 'king', 'princess', 'boy', 'wise', 'queen', 'man'}\n"
     ]
    }
   ],
   "source": [
    "vocabulary = set()\n",
    "for sentence in sentences:\n",
    "    for word in sentence.split(\" \"):\n",
    "        vocabulary.add(word)\n",
    "\n",
    "print(\"Size of the vocabulary: {}\".format(len(vocabulary)))\n",
    "print(\"Vocabulary: {}\".format(vocabulary))"
   ]
  },
  {
   "cell_type": "markdown",
   "metadata": {},
   "source": [
    "#### 4. Data Preparation"
   ]
  },
  {
   "cell_type": "code",
   "execution_count": 5,
   "metadata": {},
   "outputs": [],
   "source": [
    "wordPos = dict()\n",
    "for idx, word in enumerate(vocabulary):\n",
    "    wordPos[word] = idx\n",
    "\n",
    "sentences = [sentence.split(\" \") for sentence in sentences]\n",
    "\n",
    "m = 2     # Window Size for the context words\n",
    "data = []\n",
    "for sentence in sentences:\n",
    "    for i, word in enumerate(sentence):\n",
    "        for context in sentence[max(i-m, 0): min(i+m, len(sentence))+1]:\n",
    "            if context != word:\n",
    "                data.append([word, context])"
   ]
  },
  {
   "cell_type": "code",
   "execution_count": 6,
   "metadata": {},
   "outputs": [
    {
     "name": "stdout",
     "output_type": "stream",
     "text": [
      "     Word Context\n",
      "0    king  strong\n",
      "1    king     man\n",
      "2  strong    king\n",
      "3  strong     man\n",
      "4     man    king\n"
     ]
    }
   ],
   "source": [
    "import pandas as pd\n",
    "\n",
    "data = pd.DataFrame(data, columns = [\"Word\", \"Context\"])\n",
    "print(data.head())"
   ]
  },
  {
   "cell_type": "code",
   "execution_count": 7,
   "metadata": {},
   "outputs": [
    {
     "name": "stdout",
     "output_type": "stream",
     "text": [
      "(52, 2)\n"
     ]
    }
   ],
   "source": [
    "print(data.shape)"
   ]
  },
  {
   "cell_type": "code",
   "execution_count": 8,
   "metadata": {},
   "outputs": [
    {
     "data": {
      "text/plain": [
       "{'prince': 0,\n",
       " 'young': 1,\n",
       " 'strong': 2,\n",
       " 'woman': 3,\n",
       " 'pretty': 4,\n",
       " 'girl': 5,\n",
       " 'king': 6,\n",
       " 'princess': 7,\n",
       " 'boy': 8,\n",
       " 'wise': 9,\n",
       " 'queen': 10,\n",
       " 'man': 11}"
      ]
     },
     "execution_count": 8,
     "metadata": {},
     "output_type": "execute_result"
    }
   ],
   "source": [
    "wordPos"
   ]
  },
  {
   "cell_type": "markdown",
   "metadata": {},
   "source": [
    "#### 5. Defining model using tensorflow"
   ]
  },
  {
   "cell_type": "code",
   "execution_count": 9,
   "metadata": {},
   "outputs": [],
   "source": [
    "import tensorflow as tf\n",
    "import numpy as np"
   ]
  },
  {
   "cell_type": "code",
   "execution_count": 10,
   "metadata": {},
   "outputs": [],
   "source": [
    "vocab_size = len(vocabulary)\n",
    "\n",
    "def to_one_hot_vector(pos):\n",
    "    one_hot_vector = np.zeros(vocab_size)\n",
    "    one_hot_vector[pos] = 1\n",
    "    \n",
    "    return one_hot_vector"
   ]
  },
  {
   "cell_type": "code",
   "execution_count": 11,
   "metadata": {},
   "outputs": [
    {
     "name": "stdout",
     "output_type": "stream",
     "text": [
      "(52, 12)\n",
      "(52, 12)\n"
     ]
    }
   ],
   "source": [
    "X = []\n",
    "y = []\n",
    "\n",
    "for xi, yi in data.values:\n",
    "    X.append(to_one_hot_vector(wordPos[xi]))\n",
    "    y.append(to_one_hot_vector(wordPos[yi]))\n",
    "    \n",
    "X = np.array(X)\n",
    "y = np.array(y)\n",
    "\n",
    "print(X.shape)\n",
    "print(y.shape)"
   ]
  },
  {
   "cell_type": "code",
   "execution_count": 12,
   "metadata": {},
   "outputs": [],
   "source": [
    "X_input = tf.placeholder(tf.float32, shape = (None, vocab_size))\n",
    "y_input = tf.placeholder(tf.float32, shape = (None, vocab_size))\n",
    "\n",
    "word2vec_dimension = 2\n",
    "\n",
    "w1 = tf.Variable(tf.random_normal([vocab_size, word2vec_dimension]))\n",
    "b1 = tf.Variable(tf.random_normal([1]))\n",
    "hidden_layer = tf.add(tf.matmul(X_input, w1), b1)\n",
    "\n",
    "w2 = tf.Variable(tf.random_normal([word2vec_dimension, vocab_size]))\n",
    "b2 = tf.Variable(tf.random_normal([1]))\n",
    "pred = tf.nn.softmax(tf.add(tf.matmul(hidden_layer, w2), b2))\n",
    "\n",
    "loss = tf.reduce_mean(- tf.reduce_sum(y_input * tf.log(pred), axis = 1))\n",
    "\n",
    "train = tf.train.GradientDescentOptimizer(0.05).minimize(loss)"
   ]
  },
  {
   "cell_type": "code",
   "execution_count": 13,
   "metadata": {},
   "outputs": [
    {
     "name": "stdout",
     "output_type": "stream",
     "text": [
      "Loss at 0 iteration is: 4.064702033996582\n",
      "Loss at 5000 iteration is: 1.7362799644470215\n",
      "Loss at 10000 iteration is: 1.6882054805755615\n",
      "Loss at 15000 iteration is: 1.671761393547058\n",
      "Loss at 20000 iteration is: 1.6621577739715576\n",
      "Loss at 25000 iteration is: 1.6555216312408447\n",
      "Loss at 29999 iteration is: 1.6505345106124878\n"
     ]
    }
   ],
   "source": [
    "sess = tf.Session()\n",
    "init = tf.global_variables_initializer()\n",
    "sess.run(init)\n",
    "\n",
    "max_iter = 30000\n",
    "for i in range(max_iter):\n",
    "    sess.run(train, feed_dict = {X_input: X, y_input: y})\n",
    "    \n",
    "    if i%5000 == 0 or i == max_iter-1:\n",
    "        print(\"Loss at {} iteration is: {}\".format(i, sess.run(loss, feed_dict = {X_input: X, y_input: y})))"
   ]
  },
  {
   "cell_type": "code",
   "execution_count": 24,
   "metadata": {},
   "outputs": [
    {
     "name": "stdout",
     "output_type": "stream",
     "text": [
      "Vector representation of prince is: [-0.92935145  7.0721564 ]\n",
      "Vector representation of young is: [-0.19437814 -0.19363987]\n",
      "Vector representation of strong is: [-3.0423617  2.0253282]\n",
      "Vector representation of woman is: [1.4075326  0.20393538]\n",
      "Vector representation of pretty is: [ 1.1919961 -2.6685982]\n",
      "Vector representation of girl is: [ 1.7906274  -0.25827432]\n",
      "Vector representation of king is: [-0.18218529  1.1403887 ]\n",
      "Vector representation of princess is: [6.3107357  0.04844761]\n",
      "Vector representation of boy is: [-0.30521548  1.1175414 ]\n",
      "Vector representation of wise is: [ 6.3748813 -1.0224007]\n",
      "Vector representation of queen is: [ 0.7481105  -0.15597713]\n",
      "Vector representation of man is: [-0.49152935  5.101971  ]\n"
     ]
    }
   ],
   "source": [
    "word2vec = sess.run(w1 + b1)\n",
    "\n",
    "for word, vec in zip(vocabulary, word2vec):\n",
    "    print(\"Vector representation of {} is: {}\".format(word, vec))"
   ]
  },
  {
   "cell_type": "code",
   "execution_count": null,
   "metadata": {},
   "outputs": [],
   "source": []
  }
 ],
 "metadata": {
  "kernelspec": {
   "display_name": "Python 3",
   "language": "python",
   "name": "python3"
  },
  "language_info": {
   "codemirror_mode": {
    "name": "ipython",
    "version": 3
   },
   "file_extension": ".py",
   "mimetype": "text/x-python",
   "name": "python",
   "nbconvert_exporter": "python",
   "pygments_lexer": "ipython3",
   "version": "3.6.7"
  }
 },
 "nbformat": 4,
 "nbformat_minor": 2
}
