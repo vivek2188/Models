{
 "cells": [
  {
   "cell_type": "markdown",
   "metadata": {},
   "source": [
    "### Word2Vec - Skip Gram Model\n",
    "\n",
    "Skip Gram model is implemented using tensorflow in this notebook.\n",
    "\n",
    "For more information on this model, refer to following:\n",
    "1. <a href = \"https://arxiv.org/pdf/1301.3781.pdf\">Efficient Estimation of Word Representations in Vector Space</a>\n",
    "2. <a href = \"https://arxiv.org/pdf/1310.4546.pdf\">Distributed Representations of Words and Phrases and their Compositionality</a>"
   ]
  },
  {
   "cell_type": "markdown",
   "metadata": {},
   "source": [
    "#### 1. Input Data"
   ]
  },
  {
   "cell_type": "code",
   "execution_count": 1,
   "metadata": {},
   "outputs": [],
   "source": [
    "sentences = ['king is a strong man',\n",
    "             'queen is a wise woman',\n",
    "             'boy is a young man',\n",
    "             'girl is a young woman',\n",
    "             'prince is a young king',\n",
    "             'princess is a young queen',\n",
    "             'man is strong',\n",
    "             'woman is pretty',\n",
    "             'prince is a boy will be king',\n",
    "             'princess is a girl will be queen'\n",
    "            ]"
   ]
  },
  {
   "cell_type": "markdown",
   "metadata": {},
   "source": [
    "#### 2. Getting rid of stopwords"
   ]
  },
  {
   "cell_type": "code",
   "execution_count": 2,
   "metadata": {},
   "outputs": [],
   "source": [
    "def remove_stopwords(sentences):\n",
    "    stopwords = {\"is\", \"a\", \"will\", \"be\"}\n",
    "    \n",
    "    transformed_sentences = []\n",
    "    for idx, sentence in enumerate(sentences):\n",
    "        result = list()\n",
    "        for word in sentence.split(\" \"):\n",
    "            if word in stopwords:\n",
    "                continue\n",
    "            result.append(word)\n",
    "        transformed_sentences.append(\" \".join(result))\n",
    "    return transformed_sentences"
   ]
  },
  {
   "cell_type": "code",
   "execution_count": 3,
   "metadata": {},
   "outputs": [],
   "source": [
    "sentences = remove_stopwords(sentences)"
   ]
  },
  {
   "cell_type": "markdown",
   "metadata": {},
   "source": [
    "#### 3. Creating Vocabulary"
   ]
  },
  {
   "cell_type": "code",
   "execution_count": 4,
   "metadata": {},
   "outputs": [
    {
     "name": "stdout",
     "output_type": "stream",
     "text": [
      "Size of the vocabulary: 12\n",
      "Vocabulary: {'girl', 'woman', 'young', 'wise', 'king', 'boy', 'prince', 'man', 'queen', 'strong', 'princess', 'pretty'}\n"
     ]
    }
   ],
   "source": [
    "vocabulary = set()\n",
    "for sentence in sentences:\n",
    "    for word in sentence.split(\" \"):\n",
    "        vocabulary.add(word)\n",
    "\n",
    "print(\"Size of the vocabulary: {}\".format(len(vocabulary)))\n",
    "print(\"Vocabulary: {}\".format(vocabulary))"
   ]
  },
  {
   "cell_type": "code",
   "execution_count": null,
   "metadata": {},
   "outputs": [],
   "source": []
  }
 ],
 "metadata": {
  "kernelspec": {
   "display_name": "Python 3",
   "language": "python",
   "name": "python3"
  },
  "language_info": {
   "codemirror_mode": {
    "name": "ipython",
    "version": 3
   },
   "file_extension": ".py",
   "mimetype": "text/x-python",
   "name": "python",
   "nbconvert_exporter": "python",
   "pygments_lexer": "ipython3",
   "version": "3.6.7"
  }
 },
 "nbformat": 4,
 "nbformat_minor": 2
}
