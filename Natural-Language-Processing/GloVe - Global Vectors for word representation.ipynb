{
 "cells": [
  {
   "cell_type": "code",
   "execution_count": 1,
   "metadata": {},
   "outputs": [],
   "source": [
    "from glove.corpus import Corpus"
   ]
  },
  {
   "cell_type": "code",
   "execution_count": 2,
   "metadata": {},
   "outputs": [],
   "source": [
    "corpus = Corpus(dictionary = {'a': 0, 'boy': 1, 'girl': 2, 'he': 3, 'is': 4, 'she': 5})"
   ]
  },
  {
   "cell_type": "code",
   "execution_count": 3,
   "metadata": {},
   "outputs": [],
   "source": [
    "sentences = ['he is a boy',\n",
    "             'she is a girl']"
   ]
  },
  {
   "cell_type": "code",
   "execution_count": 4,
   "metadata": {},
   "outputs": [],
   "source": [
    "def generator(sentences):\n",
    "    for sentence in sentences:\n",
    "        print(sentence.split())\n",
    "        yield(sentence.split())"
   ]
  },
  {
   "cell_type": "code",
   "execution_count": 5,
   "metadata": {},
   "outputs": [],
   "source": [
    "corpus.fit(corpus = [sentence.split() for sentence in sentences], window = 2, ignore_missing = True)"
   ]
  },
  {
   "cell_type": "code",
   "execution_count": 6,
   "metadata": {},
   "outputs": [
    {
     "data": {
      "text/plain": [
       "{'a': 0, 'boy': 1, 'girl': 2, 'he': 3, 'is': 4, 'she': 5}"
      ]
     },
     "execution_count": 6,
     "metadata": {},
     "output_type": "execute_result"
    }
   ],
   "source": [
    "corpus.dictionary"
   ]
  },
  {
   "cell_type": "code",
   "execution_count": 7,
   "metadata": {},
   "outputs": [
    {
     "data": {
      "text/plain": [
       "scipy.sparse.coo.coo_matrix"
      ]
     },
     "execution_count": 7,
     "metadata": {},
     "output_type": "execute_result"
    }
   ],
   "source": [
    "type(corpus.matrix)"
   ]
  },
  {
   "cell_type": "code",
   "execution_count": 8,
   "metadata": {},
   "outputs": [
    {
     "data": {
      "text/plain": [
       "(6, 6)"
      ]
     },
     "execution_count": 8,
     "metadata": {},
     "output_type": "execute_result"
    }
   ],
   "source": [
    "corpus.matrix.shape"
   ]
  },
  {
   "cell_type": "code",
   "execution_count": 9,
   "metadata": {},
   "outputs": [
    {
     "name": "stdout",
     "output_type": "stream",
     "text": [
      "  (0, 1)\t1.0\n",
      "  (0, 2)\t1.0\n",
      "  (0, 3)\t0.5\n",
      "  (0, 4)\t2.0\n",
      "  (0, 5)\t0.5\n",
      "  (1, 4)\t0.5\n",
      "  (2, 4)\t0.5\n",
      "  (3, 4)\t1.0\n",
      "  (4, 5)\t1.0\n"
     ]
    }
   ],
   "source": [
    "print(corpus.matrix)"
   ]
  },
  {
   "cell_type": "code",
   "execution_count": 10,
   "metadata": {},
   "outputs": [],
   "source": [
    "from glove import Glove"
   ]
  },
  {
   "cell_type": "code",
   "execution_count": 14,
   "metadata": {},
   "outputs": [
    {
     "name": "stdout",
     "output_type": "stream",
     "text": [
      "Performing 10 training epochs with 8 threads\n",
      "Epoch 0\n",
      "Epoch 1\n",
      "Epoch 2\n",
      "Epoch 3\n",
      "Epoch 4\n",
      "Epoch 5\n",
      "Epoch 6\n",
      "Epoch 7\n",
      "Epoch 8\n",
      "Epoch 9\n"
     ]
    }
   ],
   "source": [
    "epochs = 10\n",
    "n_threads = 8\n",
    "\n",
    "gloVe = Glove(no_components = 300, learning_rate = 1e-3)\n",
    "gloVe.fit(corpus.matrix, epochs = epochs, no_threads = n_threads, verbose = True)"
   ]
  },
  {
   "cell_type": "code",
   "execution_count": 33,
   "metadata": {},
   "outputs": [],
   "source": [
    "gloVe.add_dictionary(corpus.dictionary)\n",
    "gloVe.save('glove_vector.model')"
   ]
  },
  {
   "cell_type": "code",
   "execution_count": 34,
   "metadata": {
    "scrolled": true
   },
   "outputs": [
    {
     "data": {
      "text/plain": [
       "<glove.glove.Glove at 0x7f32710afa58>"
      ]
     },
     "execution_count": 34,
     "metadata": {},
     "output_type": "execute_result"
    }
   ],
   "source": [
    "glove = Glove()\n",
    "gloVe.load('glove_vector.model')"
   ]
  },
  {
   "cell_type": "code",
   "execution_count": 35,
   "metadata": {
    "scrolled": true
   },
   "outputs": [
    {
     "data": {
      "text/plain": [
       "['__class__',\n",
       " '__delattr__',\n",
       " '__dict__',\n",
       " '__dir__',\n",
       " '__doc__',\n",
       " '__eq__',\n",
       " '__format__',\n",
       " '__ge__',\n",
       " '__getattribute__',\n",
       " '__gt__',\n",
       " '__hash__',\n",
       " '__init__',\n",
       " '__init_subclass__',\n",
       " '__le__',\n",
       " '__lt__',\n",
       " '__module__',\n",
       " '__ne__',\n",
       " '__new__',\n",
       " '__reduce__',\n",
       " '__reduce_ex__',\n",
       " '__repr__',\n",
       " '__setattr__',\n",
       " '__sizeof__',\n",
       " '__str__',\n",
       " '__subclasshook__',\n",
       " '__weakref__',\n",
       " '_similarity_query',\n",
       " 'add_dictionary',\n",
       " 'alpha',\n",
       " 'biases_sum_gradients',\n",
       " 'dictionary',\n",
       " 'fit',\n",
       " 'inverse_dictionary',\n",
       " 'learning_rate',\n",
       " 'load',\n",
       " 'load_stanford',\n",
       " 'max_count',\n",
       " 'max_loss',\n",
       " 'most_similar',\n",
       " 'most_similar_paragraph',\n",
       " 'no_components',\n",
       " 'random_state',\n",
       " 'save',\n",
       " 'transform_paragraph',\n",
       " 'vectors_sum_gradients',\n",
       " 'word_biases',\n",
       " 'word_vectors']"
      ]
     },
     "execution_count": 35,
     "metadata": {},
     "output_type": "execute_result"
    }
   ],
   "source": [
    "dir(glove)"
   ]
  },
  {
   "cell_type": "code",
   "execution_count": 39,
   "metadata": {},
   "outputs": [
    {
     "data": {
      "text/plain": [
       "NoneType"
      ]
     },
     "execution_count": 39,
     "metadata": {},
     "output_type": "execute_result"
    }
   ],
   "source": [
    "type(glove.word_vectors)"
   ]
  },
  {
   "cell_type": "code",
   "execution_count": 23,
   "metadata": {
    "scrolled": true
   },
   "outputs": [
    {
     "data": {
      "text/plain": [
       "array([ 1.27602118e-04, -3.73949766e-04, -5.45711237e-04,  3.15550424e-04,\n",
       "        4.74367120e-04, -6.04608228e-04,  6.88298183e-04,  2.08997091e-04,\n",
       "        1.32639677e-03,  1.49999843e-03, -1.04763920e-03,  1.45763545e-03,\n",
       "        1.26016901e-03,  6.87226413e-04,  1.34789004e-03, -1.59008513e-03,\n",
       "        1.53889421e-03,  7.23805722e-04,  9.38563879e-04, -1.14117586e-03,\n",
       "       -5.68084343e-04, -1.05310609e-03, -5.75533481e-04,  4.75817956e-04,\n",
       "       -3.04470783e-04,  5.71430942e-04, -6.07607636e-04, -7.31463701e-04,\n",
       "       -1.71977944e-04, -7.54601752e-04, -7.15509890e-04, -1.61088235e-03,\n",
       "       -4.76275511e-04, -5.37938977e-04,  1.92006955e-04,  9.77414985e-04,\n",
       "       -4.11724489e-04, -2.92164579e-04,  1.45681662e-03,  1.29329386e-03,\n",
       "       -1.51920202e-04,  8.17676953e-05,  3.01728682e-04,  6.79301722e-04,\n",
       "       -4.77008881e-04, -2.93871761e-05, -3.69290761e-04, -1.21523267e-03,\n",
       "       -7.65543384e-04,  6.70528925e-04,  9.17814720e-04, -5.93443367e-04,\n",
       "        8.20862310e-04,  1.64977017e-03,  1.29385979e-03,  6.42705986e-04,\n",
       "       -1.39167795e-03,  6.49017510e-04,  3.02023072e-04,  4.05711339e-04,\n",
       "        1.18650252e-03, -9.10824164e-04,  1.52498004e-03,  2.64425745e-04,\n",
       "       -1.38819353e-03, -8.53087897e-04,  5.25209172e-04, -1.27304302e-03,\n",
       "        1.49921299e-03,  4.02030263e-04,  7.46042428e-04, -1.50178584e-04,\n",
       "       -8.47901033e-04,  1.75500291e-04, -3.71189844e-04,  1.75988225e-05,\n",
       "        1.15151524e-03, -1.15754906e-04, -3.24019984e-04, -8.00804333e-04,\n",
       "       -3.00987963e-04,  6.05287893e-04,  9.52627191e-04,  8.91844080e-04,\n",
       "       -8.29124766e-04,  1.17721977e-03,  2.94286450e-04,  1.00067150e-03,\n",
       "       -1.30328755e-03, -1.52942941e-03, -1.46633048e-03, -7.37355781e-04,\n",
       "       -6.97378922e-04, -3.04570340e-04, -1.03720785e-03,  8.82785270e-04,\n",
       "       -1.27728229e-03, -1.07646310e-03, -1.62869988e-04,  2.17477578e-04,\n",
       "        5.71608405e-04, -2.10483503e-05, -5.50254232e-04,  1.16245950e-03,\n",
       "        5.93018854e-04, -1.64405848e-03,  7.69781026e-04, -7.33428097e-04,\n",
       "       -1.60350991e-03,  1.01634839e-03,  1.44934460e-03,  2.22574262e-04,\n",
       "        7.42832245e-04,  8.95732469e-04,  1.50042829e-03, -1.51973592e-03,\n",
       "       -1.28262274e-03,  6.12587639e-04,  1.04298450e-05,  1.43871299e-04,\n",
       "        1.25964089e-03, -6.95985201e-04, -1.30186255e-03, -5.68535259e-04,\n",
       "       -3.08802793e-05, -1.58722578e-03, -6.26044456e-05, -4.10128308e-04,\n",
       "        1.10160392e-04, -1.42792103e-03,  9.42421810e-04,  1.13624628e-04,\n",
       "        1.30672216e-03,  1.21387694e-03, -1.54913413e-03,  1.53136640e-03,\n",
       "       -1.86961767e-04,  1.56098828e-03, -8.18304329e-04,  7.04464687e-04,\n",
       "       -9.96224626e-04,  1.25807451e-03,  3.71867806e-04,  1.19061811e-03,\n",
       "       -1.42713562e-03, -8.19528898e-04,  3.53074141e-04, -6.68843624e-04,\n",
       "        3.41376899e-04,  5.00838267e-04, -4.01919334e-04, -1.77592930e-04,\n",
       "        1.22149594e-03,  3.55943045e-04,  1.24065865e-03, -1.29043744e-03,\n",
       "       -1.23783906e-04,  5.28478893e-04, -4.06568930e-04, -4.57240941e-04,\n",
       "       -1.14335070e-03,  1.43857374e-03,  4.90336605e-04,  2.27058529e-04,\n",
       "       -5.81401650e-04, -9.46963790e-04, -9.06291280e-04, -6.18898939e-04,\n",
       "        8.75033687e-04,  1.37361401e-04,  3.44050162e-04,  1.52921738e-03,\n",
       "        1.33228089e-03, -7.39836436e-04,  1.47192139e-03, -9.67454926e-04,\n",
       "        5.86920456e-04, -1.35883648e-04, -7.44028884e-04,  1.52276880e-03,\n",
       "        3.14462098e-04,  4.20661189e-04, -1.49952691e-03, -6.75274006e-04,\n",
       "        1.28167316e-03, -6.71878598e-04, -9.30053484e-04,  2.81207094e-04,\n",
       "       -1.08548776e-04,  3.15703631e-04, -1.12354494e-03,  1.66079498e-03,\n",
       "        1.02783480e-03,  1.28100579e-03, -8.20722419e-04,  8.62740375e-05,\n",
       "        1.07632138e-04,  5.56076117e-04,  1.38734173e-05, -3.08673754e-04,\n",
       "        4.51440144e-04, -3.02452819e-05,  1.33030490e-03, -9.07978197e-04,\n",
       "        1.64426034e-03,  8.35697780e-04, -1.37248108e-03, -8.81500429e-05,\n",
       "       -2.60270471e-05, -5.52648705e-04, -1.62752009e-03,  1.15557391e-03,\n",
       "        1.76284240e-04,  1.02762779e-03, -4.39546135e-04,  1.65889744e-03,\n",
       "        4.29654954e-04, -1.36589974e-03,  2.03583331e-04,  1.41507225e-03,\n",
       "       -7.75444951e-04,  1.38277161e-03,  1.61825655e-03, -1.37006081e-03,\n",
       "        9.82781913e-04,  9.48796786e-04,  5.26526416e-04,  9.89149739e-04,\n",
       "        3.85059917e-04,  2.81511974e-04, -1.59798575e-03, -1.24608332e-03,\n",
       "       -9.97790787e-04, -6.99749042e-04,  1.58439567e-03, -6.65154726e-04,\n",
       "        7.12167897e-04, -1.63787660e-03,  1.08017073e-03, -1.54148552e-03,\n",
       "        1.26181871e-03,  1.60444327e-04, -3.66854595e-05, -3.20640161e-04,\n",
       "       -1.16576413e-03,  1.14561438e-03, -1.16319220e-03, -1.00023610e-03,\n",
       "       -1.44843227e-03, -5.33371909e-04, -3.02158577e-04, -1.16354905e-03,\n",
       "       -6.09668452e-04, -8.01738378e-04, -1.65246584e-03, -3.70304433e-04,\n",
       "       -1.16864471e-03, -5.03832513e-04,  8.27184952e-04,  4.35947897e-04,\n",
       "       -8.19778148e-04,  1.29814257e-03, -5.70944093e-04, -1.12076775e-03,\n",
       "        1.30665423e-03, -1.25787162e-03,  1.20651417e-03, -1.09744462e-03,\n",
       "        1.28981952e-03, -7.17403034e-04,  1.14652426e-03,  8.74953774e-04,\n",
       "       -1.21910473e-03,  4.46643310e-04, -1.57449449e-03,  8.87020285e-04,\n",
       "       -1.55002026e-03,  1.09389205e-03,  1.33393792e-03,  6.92655659e-04,\n",
       "       -9.55753517e-04,  3.42221591e-04,  1.50678998e-03, -8.99817304e-05,\n",
       "        5.22798313e-05, -1.29861340e-04,  3.17573595e-04, -1.64006832e-03,\n",
       "        7.55493778e-04, -2.11850081e-04,  1.46552248e-03,  5.34613139e-04,\n",
       "       -1.29170629e-03, -1.38792200e-03, -9.50289146e-04, -3.54267850e-04,\n",
       "        2.35439027e-04, -1.55153885e-03, -1.04055275e-03,  9.27702609e-04])"
      ]
     },
     "execution_count": 23,
     "metadata": {},
     "output_type": "execute_result"
    }
   ],
   "source": [
    "gloVe.word_vectors[1]"
   ]
  },
  {
   "cell_type": "code",
   "execution_count": 40,
   "metadata": {},
   "outputs": [
    {
     "data": {
      "text/plain": [
       "[('girl', 0.10579648150762824),\n",
       " ('is', 0.0937110509066797),\n",
       " ('she', 0.07923934906853175),\n",
       " ('boy', 0.040677743097851715)]"
      ]
     },
     "execution_count": 40,
     "metadata": {},
     "output_type": "execute_result"
    }
   ],
   "source": [
    "gloVe.most_similar('a')"
   ]
  },
  {
   "cell_type": "code",
   "execution_count": null,
   "metadata": {},
   "outputs": [],
   "source": []
  }
 ],
 "metadata": {
  "kernelspec": {
   "display_name": "Python 3",
   "language": "python",
   "name": "python3"
  },
  "language_info": {
   "codemirror_mode": {
    "name": "ipython",
    "version": 3
   },
   "file_extension": ".py",
   "mimetype": "text/x-python",
   "name": "python",
   "nbconvert_exporter": "python",
   "pygments_lexer": "ipython3",
   "version": "3.6.7"
  }
 },
 "nbformat": 4,
 "nbformat_minor": 2
}
